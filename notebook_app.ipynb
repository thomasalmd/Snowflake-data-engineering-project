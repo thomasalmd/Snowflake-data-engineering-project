{
 "metadata": {
  "kernelspec": {
   "display_name": "Streamlit Notebook",
   "name": "streamlit"
  },
  "lastEditStatus": {
   "notebookId": "vj4rxiahgq2unenjqg3a",
   "authorId": "3042919131119",
   "authorName": "TOMASVAE",
   "authorEmail": "adeilma1316@gmail.com",
   "sessionId": "8006d89e-b6e7-4cde-bac6-55b717af0214",
   "lastEditTime": 1737211866849
  }
 },
 "nbformat_minor": 5,
 "nbformat": 4,
 "cells": [
  {
   "cell_type": "markdown",
   "id": "304af511-90b2-4847-b9c6-6dd5336c5dea",
   "metadata": {
    "name": "cell1",
    "collapsed": false
   },
   "source": ""
  },
  {
   "cell_type": "code",
   "id": "8e8a8357-15b6-4c86-89e2-62884643ed3a",
   "metadata": {
    "language": "sql",
    "name": "cell2",
    "resultHeight": 111
   },
   "outputs": [],
   "source": "LIST @MY_AZURE_SCHEMA;\n",
   "execution_count": null
  },
  {
   "cell_type": "code",
   "id": "e0c2fb34-8e81-4ae1-94c6-5c2b126a19e1",
   "metadata": {
    "language": "sql",
    "name": "cell3",
    "collapsed": false,
    "resultHeight": 111
   },
   "outputs": [],
   "source": "CREATE OR REPLACE TABLE Open_beauty_table (\n    _id VARCHAR,\n    code VARCHAR,\n    product_name VARCHAR,\n    product_name_fr VARCHAR,\n    brands VARCHAR,\n    categories_tags VARCHAR,\n    labels_tags VARCHAR,\n    quantity VARCHAR,\n    packaging VARCHAR,\n    manufacturing_places VARCHAR,\n    additives_tags VARCHAR,\n    additives_n VARCHAR,\n    allergens_tags VARCHAR,\n    ingredients_text_with_allergens VARCHAR,\n    ingredients_text_with_allergens_fr VARCHAR,\n    ingredients_analysis_tags VARCHAR,\n    periods_after_opening VARCHAR,\n    generic_name VARCHAR,\n    generic_name_fr VARCHAR\n);\n",
   "execution_count": null
  },
  {
   "cell_type": "code",
   "id": "00a6b988-44e9-4600-8e77-f0ad6a2a60a2",
   "metadata": {
    "language": "sql",
    "name": "cell4",
    "resultHeight": 111
   },
   "outputs": [],
   "source": "COPY INTO Open_beauty_table\nFROM @MY_AZURE_SCHEMA\nFILE_FORMAT = (\n    TYPE = CSV\n    FIELD_OPTIONALLY_ENCLOSED_BY = '\"'\n    FIELD_DELIMITER = ','  -- Délimiteur de champ pour les colonnes\n    SKIP_HEADER = 1        -- Ignore la première ligne (en-têtes des colonnes)\n    NULL_IF = ('')         -- Interprète les champs vides comme NULL\n);\n",
   "execution_count": null
  },
  {
   "cell_type": "code",
   "id": "945f7c3e-04c0-45a7-aeef-b40da37e24ab",
   "metadata": {
    "language": "sql",
    "name": "cell5",
    "resultHeight": 510
   },
   "outputs": [],
   "source": "select * from Open_beauty_table",
   "execution_count": null
  },
  {
   "cell_type": "code",
   "id": "ae671557-6988-44fb-b824-bf45b0431cef",
   "metadata": {
    "language": "python",
    "name": "cell6",
    "resultHeight": 335,
    "collapsed": false
   },
   "outputs": [],
   "source": "# Importer la session active directement depuis Snowflake\nfrom snowflake.snowpark import Session\n\n# Récupérer la session active\nsession = Session.get_active_session()\n\n# Charger une table dans un DataFrame\ndf = session.table(\"Open_beauty_table\")\n\n# Afficher les données\ndf.show()\n",
   "execution_count": null
  },
  {
   "cell_type": "code",
   "id": "95987dac-4bbb-4a38-a576-255209998d01",
   "metadata": {
    "language": "python",
    "name": "cell8",
    "resultHeight": 87
   },
   "outputs": [],
   "source": "pip install re",
   "execution_count": null
  },
  {
   "cell_type": "code",
   "id": "3a1e2754-5b19-45d7-b041-56dab13d2e29",
   "metadata": {
    "language": "python",
    "name": "cell7",
    "resultHeight": 60
   },
   "outputs": [],
   "source": "# Importer les fonctions nécessaires\nfrom snowflake.snowpark import functions as F\n\nfiltered_df = df\n\n# Calculer le seuil pour les lignes avec un nombre acceptable de valeurs non nulles\nthreshold = len(filtered_df.schema.fields) / 2  # Obtenir le nombre de colonnes dans le DataFrame\n\n# Supprimer les lignes avec trop de valeurs nulles\nfiltered_df = filtered_df.dropna(thresh=int(threshold))\nprint(f\"Nombre de lignes après suppression des lignes avec trop de valeurs manquantes : {filtered_df.count()}\")\n\n\n\n# Nettoyer les colonnes avec `regexp_replace`\ncolumns_to_clean = ['categories_tags', 'labels_tags', 'additives_tags', 'allergens_tags', 'ingredients_analysis_tags']\n\nfor column in columns_to_clean:\n    filtered_df = filtered_df.with_column(\n        f\"{column}_cleaned\",\n        F.regexp_replace(F.col(column).cast(\"string\"), r\".*?:([\\w-]+)\", r\"\\1\")\n    )\n\n# Supprimer les lignes contenant uniquement des \"[]\" ou des valeurs NULL\nfiltered_df = filtered_df.filter(~F.col('categories_tags_cleaned').like(\"[]\") & F.col('categories_tags_cleaned').is_not_null())\n\n# Supprimer les colonnes inutiles\ncolumns_to_drop = ['additives_tags', 'additives_n', 'ingredients_text_with_allergens_fr']\nfiltered_df = filtered_df.drop(*columns_to_drop)\n\n# Nettoyer la colonne `ingredients_text_with_allergens` en retirant certains mots\nmots_a_supprimer = ['ingrédients', 'ingrédient', 'ingredient', 'ingredients']\npattern = '|'.join(mots_a_supprimer)\n\n\n\n\nfiltered_df = filtered_df.with_column(\n    'ingredients_text_with_allergens',\n    F.trim(F.regexp_replace(F.lower(F.col('ingredients_text_with_allergens')), pattern, \"\"))\n)\n\n\n# Filtrer les lignes où `ingredients_text_with_allergens` commence par 'Water' ou 'Aqua'\nfiltered_df = filtered_df.filter(\n    F.col('ingredients_text_with_allergens').startswith('Water') | F.col('ingredients_text_with_allergens').startswith('Aqua')\n)\n\n# Supprimer le symbole '*' dans la colonne `ingredients_text_with_allergens`\nfiltered_df = filtered_df.with_column(\n    'ingredients_text_with_allergens',\n    F.regexp_replace(F.col('ingredients_text_with_allergens'), r\"\\*\", \"\")\n)\n\n# Sauvegarder les données nettoyées dans une nouvelle table\nfiltered_df.write.mode(\"overwrite\").save_as_table(\"cleaned_products_table\")\n\nprint(\"Données nettoyées sauvegardées dans la table 'cleaned_products_table'.\")\n",
   "execution_count": null
  }
 ]
}